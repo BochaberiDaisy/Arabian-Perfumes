{
 "cells": [
  {
   "cell_type": "code",
   "execution_count": 1,
   "metadata": {},
   "outputs": [],
   "source": [
    "import pandas as pd"
   ]
  },
  {
   "cell_type": "code",
   "execution_count": 2,
   "metadata": {},
   "outputs": [],
   "source": [
    "perfumes = pd.read_csv('perfumes.csv')"
   ]
  },
  {
   "cell_type": "code",
   "execution_count": 3,
   "metadata": {},
   "outputs": [
    {
     "data": {
      "text/html": [
       "<div>\n",
       "<style scoped>\n",
       "    .dataframe tbody tr th:only-of-type {\n",
       "        vertical-align: middle;\n",
       "    }\n",
       "\n",
       "    .dataframe tbody tr th {\n",
       "        vertical-align: top;\n",
       "    }\n",
       "\n",
       "    .dataframe thead th {\n",
       "        text-align: right;\n",
       "    }\n",
       "</style>\n",
       "<table border=\"1\" class=\"dataframe\">\n",
       "  <thead>\n",
       "    <tr style=\"text-align: right;\">\n",
       "      <th></th>\n",
       "      <th>name</th>\n",
       "      <th>price</th>\n",
       "      <th>brand</th>\n",
       "      <th>category</th>\n",
       "      <th>top_notes</th>\n",
       "      <th>middle_notes</th>\n",
       "      <th>base_notes</th>\n",
       "      <th>reviews</th>\n",
       "      <th>url</th>\n",
       "    </tr>\n",
       "  </thead>\n",
       "  <tbody>\n",
       "    <tr>\n",
       "      <th>494</th>\n",
       "      <td>AURA</td>\n",
       "      <td>3,500/=</td>\n",
       "      <td>LATTAFA</td>\n",
       "      <td>FRAGRANCE</td>\n",
       "      <td>Not Available</td>\n",
       "      <td>Not Available</td>\n",
       "      <td>Not Available</td>\n",
       "      <td>No Reviews Available</td>\n",
       "      <td>https://middleeasternscents.co.ke/product/aura/</td>\n",
       "    </tr>\n",
       "    <tr>\n",
       "      <th>495</th>\n",
       "      <td>OUD WONDER EDP</td>\n",
       "      <td>1,900/=</td>\n",
       "      <td>FRAGRANCE WORLD</td>\n",
       "      <td>FRAGRANCE</td>\n",
       "      <td>Not Available</td>\n",
       "      <td>Not Available</td>\n",
       "      <td>Not Available</td>\n",
       "      <td>No Reviews Available</td>\n",
       "      <td>https://middleeasternscents.co.ke/product/oud-...</td>\n",
       "    </tr>\n",
       "    <tr>\n",
       "      <th>496</th>\n",
       "      <td>ROYAL SAPPHIRE EDP</td>\n",
       "      <td>4,500/=</td>\n",
       "      <td>LATTAFA PRIDE</td>\n",
       "      <td>FRAGRANCE</td>\n",
       "      <td>Not Available</td>\n",
       "      <td>Not Available</td>\n",
       "      <td>Not Available</td>\n",
       "      <td>No Reviews Available</td>\n",
       "      <td>https://middleeasternscents.co.ke/product/roya...</td>\n",
       "    </tr>\n",
       "    <tr>\n",
       "      <th>497</th>\n",
       "      <td>ROUAT AL MUSK EDP</td>\n",
       "      <td>2,100/=</td>\n",
       "      <td>LATTAFA</td>\n",
       "      <td>FRAGRANCE</td>\n",
       "      <td>Not Available</td>\n",
       "      <td>Not Available</td>\n",
       "      <td>Not Available</td>\n",
       "      <td>No Reviews Available</td>\n",
       "      <td>https://middleeasternscents.co.ke/product/roua...</td>\n",
       "    </tr>\n",
       "    <tr>\n",
       "      <th>498</th>\n",
       "      <td>OUDAIN EDP</td>\n",
       "      <td>2,000/=</td>\n",
       "      <td>LATTAFA</td>\n",
       "      <td>FRAGRANCE</td>\n",
       "      <td>Not Available</td>\n",
       "      <td>Not Available</td>\n",
       "      <td>Not Available</td>\n",
       "      <td>No Reviews Available</td>\n",
       "      <td>https://middleeasternscents.co.ke/product/ouid...</td>\n",
       "    </tr>\n",
       "  </tbody>\n",
       "</table>\n",
       "</div>"
      ],
      "text/plain": [
       "                   name    price            brand   category      top_notes  \\\n",
       "494                AURA  3,500/=          LATTAFA  FRAGRANCE  Not Available   \n",
       "495      OUD WONDER EDP  1,900/=  FRAGRANCE WORLD  FRAGRANCE  Not Available   \n",
       "496  ROYAL SAPPHIRE EDP  4,500/=    LATTAFA PRIDE  FRAGRANCE  Not Available   \n",
       "497   ROUAT AL MUSK EDP  2,100/=          LATTAFA  FRAGRANCE  Not Available   \n",
       "498          OUDAIN EDP  2,000/=          LATTAFA  FRAGRANCE  Not Available   \n",
       "\n",
       "      middle_notes     base_notes               reviews  \\\n",
       "494  Not Available  Not Available  No Reviews Available   \n",
       "495  Not Available  Not Available  No Reviews Available   \n",
       "496  Not Available  Not Available  No Reviews Available   \n",
       "497  Not Available  Not Available  No Reviews Available   \n",
       "498  Not Available  Not Available  No Reviews Available   \n",
       "\n",
       "                                                   url  \n",
       "494    https://middleeasternscents.co.ke/product/aura/  \n",
       "495  https://middleeasternscents.co.ke/product/oud-...  \n",
       "496  https://middleeasternscents.co.ke/product/roya...  \n",
       "497  https://middleeasternscents.co.ke/product/roua...  \n",
       "498  https://middleeasternscents.co.ke/product/ouid...  "
      ]
     },
     "execution_count": 3,
     "metadata": {},
     "output_type": "execute_result"
    }
   ],
   "source": [
    "perfumes.tail()"
   ]
  },
  {
   "cell_type": "markdown",
   "metadata": {},
   "source": [
    "## Check for the composition of the data"
   ]
  },
  {
   "cell_type": "code",
   "execution_count": 4,
   "metadata": {},
   "outputs": [
    {
     "name": "stdout",
     "output_type": "stream",
     "text": [
      "<class 'pandas.core.frame.DataFrame'>\n",
      "RangeIndex: 499 entries, 0 to 498\n",
      "Data columns (total 9 columns):\n",
      " #   Column        Non-Null Count  Dtype \n",
      "---  ------        --------------  ----- \n",
      " 0   name          499 non-null    object\n",
      " 1   price         488 non-null    object\n",
      " 2   brand         499 non-null    object\n",
      " 3   category      499 non-null    object\n",
      " 4   top_notes     498 non-null    object\n",
      " 5   middle_notes  498 non-null    object\n",
      " 6   base_notes    498 non-null    object\n",
      " 7   reviews       499 non-null    object\n",
      " 8   url           499 non-null    object\n",
      "dtypes: object(9)\n",
      "memory usage: 35.2+ KB\n"
     ]
    }
   ],
   "source": [
    "perfumes.info()"
   ]
  },
  {
   "cell_type": "markdown",
   "metadata": {},
   "source": [
    "## Check for null and duplicate values"
   ]
  },
  {
   "cell_type": "code",
   "execution_count": 5,
   "metadata": {},
   "outputs": [
    {
     "data": {
      "text/html": [
       "<div>\n",
       "<style scoped>\n",
       "    .dataframe tbody tr th:only-of-type {\n",
       "        vertical-align: middle;\n",
       "    }\n",
       "\n",
       "    .dataframe tbody tr th {\n",
       "        vertical-align: top;\n",
       "    }\n",
       "\n",
       "    .dataframe thead th {\n",
       "        text-align: right;\n",
       "    }\n",
       "</style>\n",
       "<table border=\"1\" class=\"dataframe\">\n",
       "  <thead>\n",
       "    <tr style=\"text-align: right;\">\n",
       "      <th></th>\n",
       "      <th>name</th>\n",
       "      <th>price</th>\n",
       "      <th>brand</th>\n",
       "      <th>category</th>\n",
       "      <th>top_notes</th>\n",
       "      <th>middle_notes</th>\n",
       "      <th>base_notes</th>\n",
       "      <th>reviews</th>\n",
       "      <th>url</th>\n",
       "    </tr>\n",
       "  </thead>\n",
       "  <tbody>\n",
       "    <tr>\n",
       "      <th>count</th>\n",
       "      <td>499</td>\n",
       "      <td>488</td>\n",
       "      <td>499</td>\n",
       "      <td>499</td>\n",
       "      <td>498</td>\n",
       "      <td>498</td>\n",
       "      <td>498</td>\n",
       "      <td>499</td>\n",
       "      <td>499</td>\n",
       "    </tr>\n",
       "    <tr>\n",
       "      <th>unique</th>\n",
       "      <td>493</td>\n",
       "      <td>87</td>\n",
       "      <td>30</td>\n",
       "      <td>7</td>\n",
       "      <td>187</td>\n",
       "      <td>84</td>\n",
       "      <td>90</td>\n",
       "      <td>9</td>\n",
       "      <td>499</td>\n",
       "    </tr>\n",
       "    <tr>\n",
       "      <th>top</th>\n",
       "      <td>AMBER OUD TOBACCO EDITION</td>\n",
       "      <td>500/=</td>\n",
       "      <td>LATTAFA</td>\n",
       "      <td>FRAGRANCE</td>\n",
       "      <td>Not Available</td>\n",
       "      <td>Not Available</td>\n",
       "      <td>Not Available</td>\n",
       "      <td>No Reviews Available</td>\n",
       "      <td>https://middleeasternscents.co.ke/product/ouid...</td>\n",
       "    </tr>\n",
       "    <tr>\n",
       "      <th>freq</th>\n",
       "      <td>2</td>\n",
       "      <td>28</td>\n",
       "      <td>146</td>\n",
       "      <td>430</td>\n",
       "      <td>306</td>\n",
       "      <td>413</td>\n",
       "      <td>407</td>\n",
       "      <td>491</td>\n",
       "      <td>1</td>\n",
       "    </tr>\n",
       "  </tbody>\n",
       "</table>\n",
       "</div>"
      ],
      "text/plain": [
       "                             name  price    brand   category      top_notes  \\\n",
       "count                         499    488      499        499            498   \n",
       "unique                        493     87       30          7            187   \n",
       "top     AMBER OUD TOBACCO EDITION  500/=  LATTAFA  FRAGRANCE  Not Available   \n",
       "freq                            2     28      146        430            306   \n",
       "\n",
       "         middle_notes     base_notes               reviews  \\\n",
       "count             498            498                   499   \n",
       "unique             84             90                     9   \n",
       "top     Not Available  Not Available  No Reviews Available   \n",
       "freq              413            407                   491   \n",
       "\n",
       "                                                      url  \n",
       "count                                                 499  \n",
       "unique                                                499  \n",
       "top     https://middleeasternscents.co.ke/product/ouid...  \n",
       "freq                                                    1  "
      ]
     },
     "execution_count": 5,
     "metadata": {},
     "output_type": "execute_result"
    }
   ],
   "source": [
    "perfumes.describe()"
   ]
  },
  {
   "cell_type": "code",
   "execution_count": 7,
   "metadata": {},
   "outputs": [
    {
     "data": {
      "text/plain": [
       "name             0\n",
       "price           11\n",
       "brand            0\n",
       "category         0\n",
       "top_notes        1\n",
       "middle_notes     1\n",
       "base_notes       1\n",
       "reviews          0\n",
       "url              0\n",
       "dtype: int64"
      ]
     },
     "execution_count": 7,
     "metadata": {},
     "output_type": "execute_result"
    }
   ],
   "source": [
    "perfumes.isna().sum()"
   ]
  },
  {
   "cell_type": "markdown",
   "metadata": {},
   "source": [
    "### Conclusions\n",
    "- Brand  has the most null values"
   ]
  }
 ],
 "metadata": {
  "kernelspec": {
   "display_name": "Python 3",
   "language": "python",
   "name": "python3"
  },
  "language_info": {
   "codemirror_mode": {
    "name": "ipython",
    "version": 3
   },
   "file_extension": ".py",
   "mimetype": "text/x-python",
   "name": "python",
   "nbconvert_exporter": "python",
   "pygments_lexer": "ipython3",
   "version": "3.12.0"
  }
 },
 "nbformat": 4,
 "nbformat_minor": 2
}
