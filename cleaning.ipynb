{
 "cells": [
  {
   "cell_type": "code",
   "execution_count": 3,
   "metadata": {},
   "outputs": [],
   "source": [
    "import pandas as pd"
   ]
  },
  {
   "cell_type": "code",
   "execution_count": 4,
   "metadata": {},
   "outputs": [],
   "source": [
    "perfumes = pd.read_csv('perfumes.csv')"
   ]
  },
  {
   "cell_type": "code",
   "execution_count": 7,
   "metadata": {},
   "outputs": [
    {
     "data": {
      "text/html": [
       "<div>\n",
       "<style scoped>\n",
       "    .dataframe tbody tr th:only-of-type {\n",
       "        vertical-align: middle;\n",
       "    }\n",
       "\n",
       "    .dataframe tbody tr th {\n",
       "        vertical-align: top;\n",
       "    }\n",
       "\n",
       "    .dataframe thead th {\n",
       "        text-align: right;\n",
       "    }\n",
       "</style>\n",
       "<table border=\"1\" class=\"dataframe\">\n",
       "  <thead>\n",
       "    <tr style=\"text-align: right;\">\n",
       "      <th></th>\n",
       "      <th>name</th>\n",
       "      <th>price</th>\n",
       "      <th>brand</th>\n",
       "      <th>top_notes</th>\n",
       "      <th>middle_notes</th>\n",
       "      <th>base_notes</th>\n",
       "      <th>reviews</th>\n",
       "      <th>url</th>\n",
       "    </tr>\n",
       "  </thead>\n",
       "  <tbody>\n",
       "    <tr>\n",
       "      <th>492</th>\n",
       "      <td>AURA</td>\n",
       "      <td>3,500/=</td>\n",
       "      <td>NaN</td>\n",
       "      <td>Not Available</td>\n",
       "      <td>Not Available</td>\n",
       "      <td>Not Available</td>\n",
       "      <td>No Reviews Available</td>\n",
       "      <td>https://middleeasternscents.co.ke/product/aura/</td>\n",
       "    </tr>\n",
       "    <tr>\n",
       "      <th>493</th>\n",
       "      <td>OUD WONDER EDP</td>\n",
       "      <td>1,900/=</td>\n",
       "      <td>NaN</td>\n",
       "      <td>Not Available</td>\n",
       "      <td>Not Available</td>\n",
       "      <td>Not Available</td>\n",
       "      <td>No Reviews Available</td>\n",
       "      <td>https://middleeasternscents.co.ke/product/oud-...</td>\n",
       "    </tr>\n",
       "    <tr>\n",
       "      <th>494</th>\n",
       "      <td>ROYAL SAPPHIRE EDP</td>\n",
       "      <td>4,500/=</td>\n",
       "      <td>NaN</td>\n",
       "      <td>Royal Sapphire&amp;nbsp;by&amp;nbsp;Lattafa Perfumes i...</td>\n",
       "      <td>Not Available</td>\n",
       "      <td>Not Available</td>\n",
       "      <td>No Reviews Available</td>\n",
       "      <td>https://middleeasternscents.co.ke/product/roya...</td>\n",
       "    </tr>\n",
       "    <tr>\n",
       "      <th>495</th>\n",
       "      <td>ROUAT AL MUSK EDP</td>\n",
       "      <td>2,100/=</td>\n",
       "      <td>NaN</td>\n",
       "      <td>Not Available</td>\n",
       "      <td>Not Available</td>\n",
       "      <td>Not Available</td>\n",
       "      <td>No Reviews Available</td>\n",
       "      <td>https://middleeasternscents.co.ke/product/roua...</td>\n",
       "    </tr>\n",
       "    <tr>\n",
       "      <th>496</th>\n",
       "      <td>OUDAIN EDP</td>\n",
       "      <td>2,000/=</td>\n",
       "      <td>NaN</td>\n",
       "      <td>Not Available</td>\n",
       "      <td>Not Available</td>\n",
       "      <td>Not Available</td>\n",
       "      <td>No Reviews Available</td>\n",
       "      <td>https://middleeasternscents.co.ke/product/ouid...</td>\n",
       "    </tr>\n",
       "  </tbody>\n",
       "</table>\n",
       "</div>"
      ],
      "text/plain": [
       "                   name    price brand  \\\n",
       "492                AURA  3,500/=   NaN   \n",
       "493      OUD WONDER EDP  1,900/=   NaN   \n",
       "494  ROYAL SAPPHIRE EDP  4,500/=   NaN   \n",
       "495   ROUAT AL MUSK EDP  2,100/=   NaN   \n",
       "496          OUDAIN EDP  2,000/=   NaN   \n",
       "\n",
       "                                             top_notes   middle_notes  \\\n",
       "492                                      Not Available  Not Available   \n",
       "493                                      Not Available  Not Available   \n",
       "494  Royal Sapphire&nbsp;by&nbsp;Lattafa Perfumes i...  Not Available   \n",
       "495                                      Not Available  Not Available   \n",
       "496                                      Not Available  Not Available   \n",
       "\n",
       "        base_notes               reviews  \\\n",
       "492  Not Available  No Reviews Available   \n",
       "493  Not Available  No Reviews Available   \n",
       "494  Not Available  No Reviews Available   \n",
       "495  Not Available  No Reviews Available   \n",
       "496  Not Available  No Reviews Available   \n",
       "\n",
       "                                                   url  \n",
       "492    https://middleeasternscents.co.ke/product/aura/  \n",
       "493  https://middleeasternscents.co.ke/product/oud-...  \n",
       "494  https://middleeasternscents.co.ke/product/roya...  \n",
       "495  https://middleeasternscents.co.ke/product/roua...  \n",
       "496  https://middleeasternscents.co.ke/product/ouid...  "
      ]
     },
     "execution_count": 7,
     "metadata": {},
     "output_type": "execute_result"
    }
   ],
   "source": [
    "perfumes.tail()"
   ]
  },
  {
   "cell_type": "markdown",
   "metadata": {},
   "source": [
    "## Check for the composition of the data"
   ]
  },
  {
   "cell_type": "code",
   "execution_count": 11,
   "metadata": {},
   "outputs": [
    {
     "name": "stdout",
     "output_type": "stream",
     "text": [
      "<class 'pandas.core.frame.DataFrame'>\n",
      "RangeIndex: 497 entries, 0 to 496\n",
      "Data columns (total 8 columns):\n",
      " #   Column        Non-Null Count  Dtype \n",
      "---  ------        --------------  ----- \n",
      " 0   name          497 non-null    object\n",
      " 1   price         496 non-null    object\n",
      " 2   brand         87 non-null     object\n",
      " 3   top_notes     497 non-null    object\n",
      " 4   middle_notes  496 non-null    object\n",
      " 5   base_notes    496 non-null    object\n",
      " 6   reviews       497 non-null    object\n",
      " 7   url           497 non-null    object\n",
      "dtypes: object(8)\n",
      "memory usage: 31.2+ KB\n"
     ]
    }
   ],
   "source": [
    "perfumes.info()"
   ]
  },
  {
   "cell_type": "markdown",
   "metadata": {},
   "source": [
    "## Check for null and duplicate values"
   ]
  },
  {
   "cell_type": "code",
   "execution_count": 9,
   "metadata": {},
   "outputs": [
    {
     "data": {
      "text/html": [
       "<div>\n",
       "<style scoped>\n",
       "    .dataframe tbody tr th:only-of-type {\n",
       "        vertical-align: middle;\n",
       "    }\n",
       "\n",
       "    .dataframe tbody tr th {\n",
       "        vertical-align: top;\n",
       "    }\n",
       "\n",
       "    .dataframe thead th {\n",
       "        text-align: right;\n",
       "    }\n",
       "</style>\n",
       "<table border=\"1\" class=\"dataframe\">\n",
       "  <thead>\n",
       "    <tr style=\"text-align: right;\">\n",
       "      <th></th>\n",
       "      <th>name</th>\n",
       "      <th>price</th>\n",
       "      <th>brand</th>\n",
       "      <th>top_notes</th>\n",
       "      <th>middle_notes</th>\n",
       "      <th>base_notes</th>\n",
       "      <th>reviews</th>\n",
       "      <th>url</th>\n",
       "    </tr>\n",
       "  </thead>\n",
       "  <tbody>\n",
       "    <tr>\n",
       "      <th>count</th>\n",
       "      <td>497</td>\n",
       "      <td>496</td>\n",
       "      <td>87</td>\n",
       "      <td>497</td>\n",
       "      <td>496</td>\n",
       "      <td>496</td>\n",
       "      <td>497</td>\n",
       "      <td>497</td>\n",
       "    </tr>\n",
       "    <tr>\n",
       "      <th>unique</th>\n",
       "      <td>491</td>\n",
       "      <td>87</td>\n",
       "      <td>12</td>\n",
       "      <td>206</td>\n",
       "      <td>90</td>\n",
       "      <td>98</td>\n",
       "      <td>9</td>\n",
       "      <td>497</td>\n",
       "    </tr>\n",
       "    <tr>\n",
       "      <th>top</th>\n",
       "      <td>AMBER OUD TOBACCO EDITION</td>\n",
       "      <td>500/=</td>\n",
       "      <td>Unknown</td>\n",
       "      <td>Not Available</td>\n",
       "      <td>Not Available</td>\n",
       "      <td>Not Available</td>\n",
       "      <td>No Reviews Available</td>\n",
       "      <td>https://middleeasternscents.co.ke/product/ouid...</td>\n",
       "    </tr>\n",
       "    <tr>\n",
       "      <th>freq</th>\n",
       "      <td>2</td>\n",
       "      <td>28</td>\n",
       "      <td>36</td>\n",
       "      <td>282</td>\n",
       "      <td>404</td>\n",
       "      <td>397</td>\n",
       "      <td>489</td>\n",
       "      <td>1</td>\n",
       "    </tr>\n",
       "  </tbody>\n",
       "</table>\n",
       "</div>"
      ],
      "text/plain": [
       "                             name  price    brand      top_notes  \\\n",
       "count                         497    496       87            497   \n",
       "unique                        491     87       12            206   \n",
       "top     AMBER OUD TOBACCO EDITION  500/=  Unknown  Not Available   \n",
       "freq                            2     28       36            282   \n",
       "\n",
       "         middle_notes     base_notes               reviews  \\\n",
       "count             496            496                   497   \n",
       "unique             90             98                     9   \n",
       "top     Not Available  Not Available  No Reviews Available   \n",
       "freq              404            397                   489   \n",
       "\n",
       "                                                      url  \n",
       "count                                                 497  \n",
       "unique                                                497  \n",
       "top     https://middleeasternscents.co.ke/product/ouid...  \n",
       "freq                                                    1  "
      ]
     },
     "execution_count": 9,
     "metadata": {},
     "output_type": "execute_result"
    }
   ],
   "source": [
    "perfumes.describe()"
   ]
  },
  {
   "cell_type": "code",
   "execution_count": 10,
   "metadata": {},
   "outputs": [
    {
     "data": {
      "text/plain": [
       "name              0\n",
       "price             1\n",
       "brand           410\n",
       "top_notes         0\n",
       "middle_notes      1\n",
       "base_notes        1\n",
       "reviews           0\n",
       "url               0\n",
       "dtype: int64"
      ]
     },
     "execution_count": 10,
     "metadata": {},
     "output_type": "execute_result"
    }
   ],
   "source": [
    "perfumes.isna().sum()"
   ]
  },
  {
   "cell_type": "markdown",
   "metadata": {},
   "source": [
    "### Conclusions\n",
    "- Brand  has the most null values"
   ]
  }
 ],
 "metadata": {
  "kernelspec": {
   "display_name": "Python 3",
   "language": "python",
   "name": "python3"
  },
  "language_info": {
   "codemirror_mode": {
    "name": "ipython",
    "version": 3
   },
   "file_extension": ".py",
   "mimetype": "text/x-python",
   "name": "python",
   "nbconvert_exporter": "python",
   "pygments_lexer": "ipython3",
   "version": "3.12.0"
  }
 },
 "nbformat": 4,
 "nbformat_minor": 2
}
