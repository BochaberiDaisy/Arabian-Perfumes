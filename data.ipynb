{
 "cells": [
  {
   "cell_type": "markdown",
   "metadata": {},
   "source": [
    "# Arabian Perfumes Scraping\n",
    "I'll be scraping the data from [Middle Eastern Scents](https://middleeasternscents.co.ke/). "
   ]
  },
  {
   "cell_type": "code",
   "execution_count": 33,
   "metadata": {},
   "outputs": [
    {
     "name": "stdout",
     "output_type": "stream",
     "text": [
      "Requirement already satisfied: pandas in /home/gitpod/.pyenv/versions/3.12.0/lib/python3.12/site-packages (2.2.3)\n",
      "Requirement already satisfied: webdriver_manager in /home/gitpod/.pyenv/versions/3.12.0/lib/python3.12/site-packages (4.0.2)\n",
      "Requirement already satisfied: selenium in /home/gitpod/.pyenv/versions/3.12.0/lib/python3.12/site-packages (4.28.1)\n",
      "Requirement already satisfied: numpy>=1.26.0 in /home/gitpod/.pyenv/versions/3.12.0/lib/python3.12/site-packages (from pandas) (2.2.3)\n",
      "Requirement already satisfied: python-dateutil>=2.8.2 in /home/gitpod/.pyenv/versions/3.12.0/lib/python3.12/site-packages (from pandas) (2.8.2)\n",
      "Requirement already satisfied: pytz>=2020.1 in /home/gitpod/.pyenv/versions/3.12.0/lib/python3.12/site-packages (from pandas) (2025.1)\n",
      "Requirement already satisfied: tzdata>=2022.7 in /home/gitpod/.pyenv/versions/3.12.0/lib/python3.12/site-packages (from pandas) (2025.1)\n",
      "Requirement already satisfied: requests in /home/gitpod/.pyenv/versions/3.12.0/lib/python3.12/site-packages (from webdriver_manager) (2.31.0)\n",
      "Requirement already satisfied: python-dotenv in /home/gitpod/.pyenv/versions/3.12.0/lib/python3.12/site-packages (from webdriver_manager) (1.0.1)\n",
      "Requirement already satisfied: packaging in /home/gitpod/.pyenv/versions/3.12.0/lib/python3.12/site-packages (from webdriver_manager) (23.2)\n",
      "Requirement already satisfied: urllib3<3,>=1.26 in /home/gitpod/.pyenv/versions/3.12.0/lib/python3.12/site-packages (from urllib3[socks]<3,>=1.26->selenium) (2.0.6)\n",
      "Requirement already satisfied: trio~=0.17 in /home/gitpod/.pyenv/versions/3.12.0/lib/python3.12/site-packages (from selenium) (0.29.0)\n",
      "Requirement already satisfied: trio-websocket~=0.9 in /home/gitpod/.pyenv/versions/3.12.0/lib/python3.12/site-packages (from selenium) (0.11.1)\n",
      "Requirement already satisfied: certifi>=2021.10.8 in /home/gitpod/.pyenv/versions/3.12.0/lib/python3.12/site-packages (from selenium) (2023.7.22)\n",
      "Requirement already satisfied: typing_extensions~=4.9 in /home/gitpod/.pyenv/versions/3.12.0/lib/python3.12/site-packages (from selenium) (4.12.2)\n",
      "Requirement already satisfied: websocket-client~=1.8 in /home/gitpod/.pyenv/versions/3.12.0/lib/python3.12/site-packages (from selenium) (1.8.0)\n",
      "Requirement already satisfied: six>=1.5 in /home/gitpod/.pyenv/versions/3.12.0/lib/python3.12/site-packages (from python-dateutil>=2.8.2->pandas) (1.16.0)\n",
      "Requirement already satisfied: attrs>=23.2.0 in /home/gitpod/.pyenv/versions/3.12.0/lib/python3.12/site-packages (from trio~=0.17->selenium) (25.1.0)\n",
      "Requirement already satisfied: sortedcontainers in /home/gitpod/.pyenv/versions/3.12.0/lib/python3.12/site-packages (from trio~=0.17->selenium) (2.4.0)\n",
      "Requirement already satisfied: idna in /home/gitpod/.pyenv/versions/3.12.0/lib/python3.12/site-packages (from trio~=0.17->selenium) (3.4)\n",
      "Requirement already satisfied: outcome in /home/gitpod/.pyenv/versions/3.12.0/lib/python3.12/site-packages (from trio~=0.17->selenium) (1.3.0.post0)\n",
      "Requirement already satisfied: sniffio>=1.3.0 in /home/gitpod/.pyenv/versions/3.12.0/lib/python3.12/site-packages (from trio~=0.17->selenium) (1.3.0)\n",
      "Requirement already satisfied: wsproto>=0.14 in /home/gitpod/.pyenv/versions/3.12.0/lib/python3.12/site-packages (from trio-websocket~=0.9->selenium) (1.2.0)\n",
      "Requirement already satisfied: pysocks!=1.5.7,<2.0,>=1.5.6 in /home/gitpod/.pyenv/versions/3.12.0/lib/python3.12/site-packages (from urllib3[socks]<3,>=1.26->selenium) (1.7.1)\n",
      "Requirement already satisfied: charset-normalizer<4,>=2 in /home/gitpod/.pyenv/versions/3.12.0/lib/python3.12/site-packages (from requests->webdriver_manager) (3.3.0)\n",
      "Requirement already satisfied: h11<1,>=0.9.0 in /home/gitpod/.pyenv/versions/3.12.0/lib/python3.12/site-packages (from wsproto>=0.14->trio-websocket~=0.9->selenium) (0.14.0)\n",
      "\n",
      "\u001b[1m[\u001b[0m\u001b[34;49mnotice\u001b[0m\u001b[1;39;49m]\u001b[0m\u001b[39;49m A new release of pip is available: \u001b[0m\u001b[31;49m23.3\u001b[0m\u001b[39;49m -> \u001b[0m\u001b[32;49m25.0.1\u001b[0m\n",
      "\u001b[1m[\u001b[0m\u001b[34;49mnotice\u001b[0m\u001b[1;39;49m]\u001b[0m\u001b[39;49m To update, run: \u001b[0m\u001b[32;49mpip install --upgrade pip\u001b[0m\n",
      "Note: you may need to restart the kernel to use updated packages.\n"
     ]
    }
   ],
   "source": [
    "%pip install pandas webdriver_manager selenium"
   ]
  },
  {
   "cell_type": "code",
   "execution_count": 34,
   "metadata": {},
   "outputs": [],
   "source": [
    "from selenium import webdriver\n",
    "from selenium.webdriver.chrome.service import Service\n",
    "from selenium.webdriver.common.by import By\n",
    "from selenium.webdriver.common.keys import Keys\n",
    "from selenium.webdriver.chrome.options import Options\n",
    "from selenium.webdriver.support.ui import WebDriverWait\n",
    "from selenium.webdriver.support import expected_conditions as EC\n",
    "import re\n",
    "import time\n",
    "import pandas as pd\n",
    "from webdriver_manager.chrome import ChromeDriverManager"
   ]
  },
  {
   "cell_type": "code",
   "execution_count": 35,
   "metadata": {},
   "outputs": [],
   "source": [
    "chrome_options = Options()\n",
    "# Important Arguments won't eun without them in Gitpod\n",
    "chrome_options.add_argument(\"--disable-dev-shm-usage\") \n",
    "chrome_options.add_argument(\"--headless\")  \n",
    "\n",
    "# Setup ChromeDriver\n",
    "service = Service(ChromeDriverManager().install())\n",
    "driver = webdriver.Chrome(service=service, options=chrome_options)"
   ]
  },
  {
   "cell_type": "markdown",
   "metadata": {},
   "source": [
    "## 1. Get perfume names and URLs"
   ]
  },
  {
   "cell_type": "code",
   "execution_count": 36,
   "metadata": {},
   "outputs": [],
   "source": [
    "def get_perfume_links(base_url, max_pages):\n",
    "    perfume_links = []\n",
    "    \n",
    "    for page in range(1, max_pages + 1):\n",
    "        url = f\"{base_url}/page/{page}/\"\n",
    "        print(f\"Scraping: {url}\")\n",
    "        driver.get(url)\n",
    "        time.sleep(3)\n",
    "\n",
    "        perfumes = driver.find_elements(By.CSS_SELECTOR, \"h4.mkdf-product-list-title a\")\n",
    "\n",
    "        for perfume in perfumes:\n",
    "            name = perfume.text\n",
    "            link = perfume.get_attribute(\"href\")\n",
    "            perfume_links.append({\"Name\": name, \"URL\": link})\n",
    "\n",
    "    return perfume_links"
   ]
  },
  {
   "cell_type": "code",
   "execution_count": 37,
   "metadata": {},
   "outputs": [
    {
     "name": "stdout",
     "output_type": "stream",
     "text": [
      "Scraping: https://middleeasternscents.co.ke/shop//page/1/\n"
     ]
    },
    {
     "name": "stdout",
     "output_type": "stream",
     "text": [
      "Scraping: https://middleeasternscents.co.ke/shop//page/2/\n",
      "Scraping: https://middleeasternscents.co.ke/shop//page/3/\n",
      "Scraping: https://middleeasternscents.co.ke/shop//page/4/\n",
      "Scraping: https://middleeasternscents.co.ke/shop//page/5/\n",
      "Scraping: https://middleeasternscents.co.ke/shop//page/6/\n",
      "Scraping: https://middleeasternscents.co.ke/shop//page/7/\n",
      "Scraping: https://middleeasternscents.co.ke/shop//page/8/\n",
      "Scraping: https://middleeasternscents.co.ke/shop//page/9/\n",
      "Scraping: https://middleeasternscents.co.ke/shop//page/10/\n",
      "Scraping: https://middleeasternscents.co.ke/shop//page/11/\n",
      "Scraping: https://middleeasternscents.co.ke/shop//page/12/\n",
      "Scraping: https://middleeasternscents.co.ke/shop//page/13/\n",
      "Scraping: https://middleeasternscents.co.ke/shop//page/14/\n",
      "Scraping: https://middleeasternscents.co.ke/shop//page/15/\n",
      "Scraping: https://middleeasternscents.co.ke/shop//page/16/\n",
      "Scraping: https://middleeasternscents.co.ke/shop//page/17/\n",
      "Scraping: https://middleeasternscents.co.ke/shop//page/18/\n",
      "Scraping: https://middleeasternscents.co.ke/shop//page/19/\n",
      "Scraping: https://middleeasternscents.co.ke/shop//page/20/\n",
      "Scraping: https://middleeasternscents.co.ke/shop//page/21/\n",
      "Scraping: https://middleeasternscents.co.ke/shop//page/22/\n",
      "Scraping: https://middleeasternscents.co.ke/shop//page/23/\n",
      "Scraping: https://middleeasternscents.co.ke/shop//page/24/\n",
      "Scraping: https://middleeasternscents.co.ke/shop//page/25/\n",
      "Scraping: https://middleeasternscents.co.ke/shop//page/26/\n",
      "Scraping: https://middleeasternscents.co.ke/shop//page/27/\n",
      "Scraping: https://middleeasternscents.co.ke/shop//page/28/\n",
      "Scraping: https://middleeasternscents.co.ke/shop//page/29/\n",
      "Scraping: https://middleeasternscents.co.ke/shop//page/30/\n",
      "Scraping: https://middleeasternscents.co.ke/shop//page/31/\n",
      "Scraping: https://middleeasternscents.co.ke/shop//page/32/\n",
      "Scraping: https://middleeasternscents.co.ke/shop//page/33/\n",
      "Scraping: https://middleeasternscents.co.ke/shop//page/34/\n",
      "Scraping: https://middleeasternscents.co.ke/shop//page/35/\n",
      "Scraping: https://middleeasternscents.co.ke/shop//page/36/\n",
      "Scraping: https://middleeasternscents.co.ke/shop//page/37/\n",
      "Scraping: https://middleeasternscents.co.ke/shop//page/38/\n",
      "Scraping: https://middleeasternscents.co.ke/shop//page/39/\n",
      "Scraping: https://middleeasternscents.co.ke/shop//page/40/\n",
      "Scraping: https://middleeasternscents.co.ke/shop//page/41/\n",
      "Scraping: https://middleeasternscents.co.ke/shop//page/42/\n"
     ]
    }
   ],
   "source": [
    "shop_url = \"https://middleeasternscents.co.ke/shop/\"\n",
    "max_pages = 42\n",
    "perfume_data = []\n",
    "\n",
    "perfume_links = get_perfume_links(shop_url,max_pages)\n"
   ]
  },
  {
   "cell_type": "markdown",
   "metadata": {},
   "source": [
    "## 2. Scrap for the details of the perfume\n"
   ]
  },
  {
   "cell_type": "markdown",
   "metadata": {},
   "source": [
    "### a) Get the prices of the perfumes"
   ]
  },
  {
   "cell_type": "code",
   "execution_count": 53,
   "metadata": {},
   "outputs": [],
   "source": [
    "def extract_price():\n",
    "    try:\n",
    "        price = driver.find_element(By.TAG_NAME, \"bdi\").text\n",
    "        return price\n",
    "    except:\n",
    "        return \"Not Available\""
   ]
  },
  {
   "cell_type": "code",
   "execution_count": 39,
   "metadata": {},
   "outputs": [],
   "source": [
    "def extract_brand():\n",
    "    try:\n",
    "        brand_element = driver.find_element(By.TAG_NAME, 'h3')\n",
    "        return brand_element.text.strip()\n",
    "    except Exception as e:\n",
    "        print(\"Error extracting brand:\", e)\n",
    "        return \"Unknown\"\n"
   ]
  },
  {
   "cell_type": "code",
   "execution_count": 40,
   "metadata": {},
   "outputs": [],
   "source": [
    "def extract_category():\n",
    "    try:\n",
    "        category_element = driver.find_element(By.CSS_SELECTOR, \"div.product_meta span.posted_in a\")\n",
    "        return category_element.text.strip()\n",
    "    except Exception as e:\n",
    "        print(\"Error extracting category:\", e)\n",
    "        return \"Unknown\""
   ]
  },
  {
   "cell_type": "code",
   "execution_count": 41,
   "metadata": {},
   "outputs": [],
   "source": [
    "# def extract_notes():\n",
    "    \n",
    "#     top_notes= middle_notes =base_notes = \"Not Available\"\n",
    "\n",
    "#     try:\n",
    "#         notes_element = driver.find_element(By.CLASS_NAME, \"woocommerce-product-details__short-description\")\n",
    "#         notes = notes_element.find_element(By.TAG_NAME, \"p\").get_attribute(\"innerHTML\")\n",
    "#         notes_list = notes.split(\"<br>\")\n",
    "        \n",
    "\n",
    "#         top_notes = next((line.replace(\"Top notes:\", \"\").strip() for line in notes_list if \"Top notes:\" in line), \"Not Available\")\n",
    "#         middle_notes = next((line.replace(\"Middle notes:\", \"\").strip() for line in notes_list if \"Middle notes:\" in line), \"Not Available\")\n",
    "#         base_notes = next((line.replace(\"Base notes:\", \"\").strip() for line in notes_list if \"Base notes:\" in line), \"Not Available\")\n",
    "\n",
    "#     except:\n",
    "#         try:\n",
    "#             top_notes_element = driver.find_element(By.XPATH, \"//tr[contains(@class, 'attribute_pa_top-notes')]/td\")\n",
    "#             top_notes = \", \".join([a.text.strip() for a in top_notes_element.find_elements(By.TAG_NAME, \"a\")])\n",
    "#         except:\n",
    "#             top_notes = \"Not Available\"\n",
    "\n",
    "#         try:\n",
    "#             middle_notes_element = driver.find_element(By.XPATH, \"//tr[contains(@class, 'attribute_pa_middle-notes')]/td\")\n",
    "#             middle_notes = \", \".join([a.text.strip() for a in middle_notes_element.find_elements(By.TAG_NAME, \"a\")])\n",
    "#         except:\n",
    "#             middle_notes = \"Not Available\"\n",
    "#         try:\n",
    "#             base_notes_element = driver.find_element(By.XPATH, \"//tr[contains(@class, 'attribute_pa_base-notes')]/td\")\n",
    "#             base_notes = \", \".join([a.text.strip() for a in base_notes_element.find_elements(By.TAG_NAME, \"a\")])\n",
    "#         except:\n",
    "#             base_notes = \"Not Available\"\n",
    "#         try:\n",
    "#             notes_element = driver.find_element(By.XPATH, \"//*[@id='tab-description' or contains(@class, 'woocommerce-Tabs-panel') or contains(@class, 'woocommerce-product-details__short-description')]\")\n",
    "#             notes = notes_element.find_elements(By.TAG_NAME, \"p\")\n",
    "\n",
    "#             notes_list= [p.get_attribute(\"innerHTML\").strip() for p in notes]\n",
    "    \n",
    "#             for line in notes_list:\n",
    "#                 if \"Top notes\" in line:\n",
    "#                     top_notes = re.sub(r\"Top notes (are|:)\", \"\", line).strip()\n",
    "#                 elif \"Middle notes\" in line:\n",
    "#                     middle_notes = re.sub(r\"Middle notes (are|:)\", \"\", line).strip()\n",
    "#                 elif \"Base notes\" in line:\n",
    "#                     base_notes = re.sub(r\"Base notes (are|:)\", \"\", line).strip()\n",
    "#         except:\n",
    "#             top_notes= middle_notes =base_notes = \"Not Available\"\n",
    "#         try:\n",
    "#             notes_element = driver.find_elements(By.CSS_SELECTOR, \"div.woocommerce-product-details__short-description p\")\n",
    "\n",
    "#             for note in notes_element:\n",
    "#                 text = note.text.strip()\n",
    "#                 if \"Top Notes:\" in text:\n",
    "#                     top_notes = text.replace(\"Top Notes:\", \"\").strip()\n",
    "#                 elif \"Middle Notes:\" in text:\n",
    "#                     middle_notes = text.replace(\"Middle Notes:\", \"\").strip()\n",
    "#                 elif \"Base Notes:\" in text:\n",
    "#                     base_notes = text.replace(\"Base Notes:\", \"\").strip()\n",
    "#         except:\n",
    "#             top_notes= middle_notes =base_notes = \"Not Available\"\n",
    "\n",
    "#     return notes"
   ]
  },
  {
   "cell_type": "code",
   "execution_count": 68,
   "metadata": {},
   "outputs": [],
   "source": [
    "def extract_notes():\n",
    "    \"\"\"\n",
    "    Extracts top, middle, and base notes from the perfume's webpage.\n",
    "    Returns a dictionary containing the notes.\n",
    "    \"\"\"\n",
    "    notes_data = {\n",
    "        \"top_notes\": \"Not Available\",\n",
    "        \"middle_notes\": \"Not Available\",\n",
    "        \"base_notes\": \"Not Available\"\n",
    "    }\n",
    "\n",
    "    try:\n",
    "        notes_element = driver.find_element(By.CLASS_NAME, \"woocommerce-product-details__short-description\")\n",
    "        notes = notes_element.find_element(By.TAG_NAME, \"p\").get_attribute(\"innerHTML\")\n",
    "        notes_list = notes.split(\"<br>\")\n",
    "\n",
    "        notes_data[\"top_notes\"] = next((line.replace(\"Top notes:\", \"\").strip() for line in notes_list if \"Top notes:\" in line), \"Not Available\")\n",
    "        notes_data[\"middle_notes\"] = next((line.replace(\"Middle notes:\", \"\").strip() for line in notes_list if \"Middle notes:\" in line), \"Not Available\")\n",
    "        notes_data[\"base_notes\"] = next((line.replace(\"Base notes:\", \"\").strip() for line in notes_list if \"Base notes:\" in line), \"Not Available\")\n",
    "\n",
    "    except:\n",
    "        try:\n",
    "            top_notes_element = driver.find_element(By.XPATH, \"//tr[contains(@class, 'attribute_pa_top-notes')]/td\")\n",
    "            notes_data[\"top_notes\"] = \", \".join([a.text.strip() for a in top_notes_element.find_elements(By.TAG_NAME, \"a\")])\n",
    "        except:\n",
    "            pass\n",
    "\n",
    "        try:\n",
    "            middle_notes_element = driver.find_element(By.XPATH, \"//tr[contains(@class, 'attribute_pa_middle-notes')]/td\")\n",
    "            notes_data[\"middle_notes\"] = \", \".join([a.text.strip() for a in middle_notes_element.find_elements(By.TAG_NAME, \"a\")])\n",
    "        except:\n",
    "            pass\n",
    "\n",
    "        try:\n",
    "            base_notes_element = driver.find_element(By.XPATH, \"//tr[contains(@class, 'attribute_pa_base-notes')]/td\")\n",
    "            notes_data[\"base_notes\"] = \", \".join([a.text.strip() for a in base_notes_element.find_elements(By.TAG_NAME, \"a\")])\n",
    "        except:\n",
    "            pass\n",
    "\n",
    "        try:\n",
    "            notes_element = driver.find_element(By.XPATH, \"//*[@id='tab-description' or contains(@class, 'woocommerce-Tabs-panel') or contains(@class, 'woocommerce-product-details__short-description')]\")\n",
    "            notes_list = [p.get_attribute(\"innerHTML\").strip() for p in notes_element.find_elements(By.TAG_NAME, \"p\")]\n",
    "\n",
    "            for line in notes_list:\n",
    "                if \"Top notes\" in line:\n",
    "                    notes_data[\"top_notes\"] = re.sub(r\"Top notes (are|:)\", \"\", line).strip()\n",
    "                elif \"Middle notes\" in line:\n",
    "                    notes_data[\"middle_notes\"] = re.sub(r\"Middle notes (are|:)\", \"\", line).strip()\n",
    "                elif \"Base notes\" in line:\n",
    "                    notes_data[\"base_notes\"] = re.sub(r\"Base notes (are|:)\", \"\", line).strip()\n",
    "        except:\n",
    "            pass\n",
    "\n",
    "        try:\n",
    "            notes_elements = driver.find_elements(By.CSS_SELECTOR, \"div.woocommerce-product-details__short-description p\")\n",
    "            for note in notes_elements:\n",
    "                text = note.text.strip()\n",
    "                if \"Top Notes:\" in text:\n",
    "                    notes_data[\"top_notes\"] = text.replace(\"Top Notes:\", \"\").strip()\n",
    "                elif \"Middle Notes:\" in text:\n",
    "                    notes_data[\"middle_notes\"] = text.replace(\"Middle Notes:\", \"\").strip()\n",
    "                elif \"Base Notes:\" in text:\n",
    "                    notes_data[\"base_notes\"] = text.replace(\"Base Notes:\", \"\").strip()\n",
    "        except:\n",
    "            pass\n",
    "        try:\n",
    "            notes_element = driver.find_element(By.ID, \"tab-description\")\n",
    "            notes_list = notes_element.find_elements(By.TAG_NAME, \"p\")\n",
    "\n",
    "            for note in notes_list:\n",
    "                text = note.text.strip()\n",
    "            if \"Top notes:\" in text:\n",
    "                top_notes= text.replace(\"Top notes:\", \"\").strip()\n",
    "            elif \"Middle notes:\" in text:\n",
    "                middle_notes = text.replace(\"Middle notes:\", \"\").strip()\n",
    "            elif \"Base notes:\" in text:\n",
    "                base_notes = text.replace(\"Base notes:\", \"\").strip()\n",
    "        except:\n",
    "            pass\n",
    "    return notes_data"
   ]
  },
  {
   "cell_type": "code",
   "execution_count": 42,
   "metadata": {},
   "outputs": [],
   "source": [
    "def extract_reviews():\n",
    "    try:\n",
    "        reviews_tab = driver.find_element(By.XPATH, '//a[@href=\"#tab-reviews\"]')\n",
    "        driver.execute_script(\"arguments[0].click();\", reviews_tab)\n",
    "        time.sleep(2)\n",
    "\n",
    "        reviews_section = driver.find_element(By.ID, \"tab-reviews\")\n",
    "        reviews_text = reviews_section.text.strip()\n",
    "\n",
    "        if \"There are no reviews yet.\" in reviews_text:\n",
    "            return \"No Reviews Available\"\n",
    "        else:\n",
    "            return reviews_text\n",
    "\n",
    "    except Exception as e:\n",
    "        print(\"Error extracting reviews:\", e)\n",
    "        return \"No Reviews Available\""
   ]
  },
  {
   "cell_type": "code",
   "execution_count": 69,
   "metadata": {},
   "outputs": [],
   "source": [
    "def get_perfume_details(url):\n",
    "    \"\"\"\n",
    "    Extracts perfume details including name, price, brand, category, notes, and reviews.\n",
    "    Returns a dictionary with perfume details.\n",
    "    \"\"\"\n",
    "    driver.get(perfume['URL'])\n",
    "    time.sleep(2)  # Allow time for the page to load\n",
    "\n",
    "    name = perfume['Name']\n",
    "    price = extract_price()\n",
    "    brand = extract_brand()\n",
    "    category = extract_category()\n",
    "    notes = extract_notes()  # Returns a dictionary\n",
    "    reviews = extract_reviews()\n",
    "    url = perfume['URL']\n",
    "\n",
    "    return {\n",
    "        \"name\": name,\n",
    "        \"price\": price,\n",
    "        \"brand\": brand,\n",
    "        \"category\": category,\n",
    "        \"top_notes\": notes.get(\"top_notes\", \"Not Available\"),\n",
    "        \"middle_notes\": notes.get(\"middle_notes\", \"Not Available\"),\n",
    "        \"base_notes\": notes.get(\"base_notes\", \"Not Available\"),\n",
    "        \"reviews\": reviews,\n",
    "        \"url\": url\n",
    "    }"
   ]
  },
  {
   "cell_type": "code",
   "execution_count": 70,
   "metadata": {},
   "outputs": [
    {
     "name": "stdout",
     "output_type": "stream",
     "text": [
      "{'name': '9AM DIVE', 'price': '4,500/=', 'brand': 'AFNAN', 'category': 'FRAGRANCE', 'top_notes': 'Mint, Lemon, Pink Pepper and Black Currant.', 'middle_notes': 'Apple, Incense and Cedar.', 'base_notes': 'Patchouli, Ginger, Jasmine and Sandalwood.', 'reviews': 'No Reviews Available', 'url': 'https://middleeasternscents.co.ke/product/9am-dive/'}\n",
      "{'name': '9PM', 'price': '4,500/=', 'brand': '', 'category': 'FRAGRANCE', 'top_notes': 'Top notes: Apple, Cinnamon, Wild Lavender and Bergamot.<br>\\nMiddle notes: Orange Blossom and Lily-of-the-Valley.<br>\\nBase notes: Vanilla, Tonka Bean, Amber and Patchouli.', 'middle_notes': 'Not Available', 'base_notes': 'Not Available', 'reviews': 'No Reviews Available', 'url': 'https://middleeasternscents.co.ke/product/9pm/'}\n",
      "{'name': 'ABEER', 'price': '3,000/=', 'brand': '', 'category': 'FRAGRANCE', 'top_notes': 'Not Available', 'middle_notes': 'Not Available', 'base_notes': 'Not Available', 'reviews': 'No Reviews Available', 'url': 'https://middleeasternscents.co.ke/product/abeer/'}\n",
      "{'name': 'ADEEB', 'price': '3,600/=', 'brand': '', 'category': 'FRAGRANCE', 'top_notes': 'Cinnamon, Vanilla, Tobacco.', 'middle_notes': 'Moroccan spices, Herbs, Thyme, Clove, Smoky notes, Oud.', 'base_notes': 'Black amber, Patchouli, Cedarwood, Sandalwood, Musk.', 'reviews': 'No Reviews Available', 'url': 'https://middleeasternscents.co.ke/product/adeeb/'}\n",
      "{'name': 'ADWAA AL SHARQ', 'price': '2,300/=', 'brand': '', 'category': 'PERFUME OIL', 'top_notes': 'Not Available', 'middle_notes': 'Not Available', 'base_notes': 'Not Available', 'reviews': 'No Reviews Available', 'url': 'https://middleeasternscents.co.ke/product/adwaa-al-sharq/'}\n",
      "{'name': 'AFEEF', 'price': '3,800/=', 'brand': '', 'category': 'FRAGRANCE', 'top_notes': 'Not Available', 'middle_notes': 'Not Available', 'base_notes': 'Not Available', 'reviews': 'No Reviews Available', 'url': 'https://middleeasternscents.co.ke/product/afeef/'}\n",
      "{'name': 'AFFECTION', 'price': '3,900/=', 'brand': '', 'category': 'FRAGRANCE', 'top_notes': 'Top notes: Pistachio, Hazelnut, Cassis Buds.<br>\\nMiddle notes: Lily Of the Valley, Jasmine, Raspberry &amp; Lactonic.<br>\\nBase notes: Lactonic, Vanilla, Tonka Bean.', 'middle_notes': 'Not Available', 'base_notes': 'Not Available', 'reviews': 'No Reviews Available', 'url': 'https://middleeasternscents.co.ke/product/affection/'}\n",
      "{'name': 'AFFECTION 20ML', 'price': '900/=', 'brand': '', 'category': 'FRAGRANCE', 'top_notes': 'Not Available', 'middle_notes': 'Not Available', 'base_notes': 'Not Available', 'reviews': 'No Reviews Available', 'url': 'https://middleeasternscents.co.ke/product/affection-20ml/'}\n",
      "{'name': 'AJAYEB DUBAI', 'price': '2,200/=', 'brand': '', 'category': 'FRAGRANCE', 'top_notes': 'Not Available', 'middle_notes': 'Not Available', 'base_notes': 'Not Available', 'reviews': 'No Reviews Available', 'url': 'https://middleeasternscents.co.ke/product/ajayeb-dubai/'}\n",
      "{'name': 'AJAYEB DUBAI PORTRAIT', 'price': '2,400/=', 'brand': '', 'category': 'FRAGRANCE', 'top_notes': 'Not Available', 'middle_notes': 'Not Available', 'base_notes': 'Not Available', 'reviews': '1 REVIEW FOR AJAYEB DUBAI PORTRAIT\\nRated 5 out of 5\\nAnne – September 13, 2024\\nThis is such an interesting perfume. It unfolds a new layer with every sniff and you’ll enjoy it because it is definitely not boring. Let it macerate for a week or two and then experience how it unfolds. I enjoy it. Lovely customer service from the seller as well.\\nAdd a review\\nYour email address will not be published. Required fields are marked *\\nYour rating\\n1 2 3 4 5', 'url': 'https://middleeasternscents.co.ke/product/ajayeb-dubai-portrait/'}\n",
      "{'name': 'AJWAA EDP', 'price': '5,400/=', 'brand': '', 'category': 'FRAGRANCE', 'top_notes': 'Top notes: Date, Elemi, Bergamot', 'middle_notes': 'Not Available', 'base_notes': 'Base notes: Benzoin, Incense', 'reviews': 'No Reviews Available', 'url': 'https://middleeasternscents.co.ke/product/ajwaa-edp/'}\n",
      "{'name': 'AJWAA MURAKAZ', 'price': '', 'brand': '', 'category': 'FRAGRANCE', 'top_notes': 'Not Available', 'middle_notes': 'Not Available', 'base_notes': 'Not Available', 'reviews': 'No Reviews Available', 'url': 'https://middleeasternscents.co.ke/product/ajwaa-murakaz/'}\n",
      "{'name': 'AJWAD', 'price': '2,700/=', 'brand': '', 'category': 'FRAGRANCE', 'top_notes': 'Bergamot, Fruits, Litchi', 'middle_notes': 'Cinnamon, Jasmine, Rose', 'base_notes': 'Amber, Ceder, Musk, Sandalwood, Vanilla', 'reviews': 'No Reviews Available', 'url': 'https://middleeasternscents.co.ke/product/ajwad-60ml-edp-by-lattafa/'}\n",
      "{'name': 'AJWAD AIR FRESHENER', 'price': '500/=', 'brand': '', 'category': 'AIR FRESHENER', 'top_notes': 'Not Available', 'middle_notes': 'Not Available', 'base_notes': 'Not Available', 'reviews': 'No Reviews Available', 'url': 'https://middleeasternscents.co.ke/product/ajwad-air-freshener/'}\n",
      "{'name': 'AJWAD BODY SPRAY 200ML', 'price': '500/=', 'brand': '', 'category': 'FRAGRANCE', 'top_notes': 'Fruity notes, Lychee, Bergamot.', 'middle_notes': 'Jasmine, Rose, Cinnamon.', 'base_notes': 'Cedar wood, Sandalwood, Vanilla, Amber, Musk.', 'reviews': 'No Reviews Available', 'url': 'https://middleeasternscents.co.ke/product/ajwad-body-spray-200ml/'}\n",
      "{'name': 'AJWAD PINK TO PINK', 'price': '2,700/=', 'brand': '', 'category': 'FRAGRANCE', 'top_notes': 'Top notes: Red Fruits, Lychee, Guava.<br>\\nMiddle notes: Vanilla, Roses, Lily-of-the-valley.<br>\\nBase notes: Musk.', 'middle_notes': 'Not Available', 'base_notes': 'Not Available', 'reviews': 'No Reviews Available', 'url': 'https://middleeasternscents.co.ke/product/ajwad-pink-to-pink/'}\n",
      "{'name': 'AL AMEED', 'price': '5,500/=', 'brand': '', 'category': 'FRAGRANCE', 'top_notes': 'Not Available', 'middle_notes': 'Not Available', 'base_notes': 'Not Available', 'reviews': 'No Reviews Available', 'url': 'https://middleeasternscents.co.ke/product/al-ameed/'}\n",
      "{'name': 'AL AREEQ SILVER 20ML', 'price': '999/=', 'brand': 'LATTAFA PRIDE', 'category': 'FRAGRANCE', 'top_notes': 'Not Available', 'middle_notes': 'Not Available', 'base_notes': 'Not Available', 'reviews': 'No Reviews Available', 'url': 'https://middleeasternscents.co.ke/product/al-areeq-silver-20ml/'}\n",
      "{'name': 'AL DANA 20 ML', 'price': '900/=', 'brand': 'NICHE EMARATI PERFUMES', 'category': 'FRAGRANCE', 'top_notes': 'Not Available', 'middle_notes': 'Not Available', 'base_notes': 'Not Available', 'reviews': 'No Reviews Available', 'url': 'https://middleeasternscents.co.ke/product/al-dana-20-ml/'}\n",
      "{'name': 'AL DIRGHAM', 'price': '2,800/=', 'brand': '', 'category': 'FRAGRANCE', 'top_notes': 'Not Available', 'middle_notes': 'Not Available', 'base_notes': 'Not Available', 'reviews': 'No Reviews Available', 'url': 'https://middleeasternscents.co.ke/product/al-dirgham/'}\n",
      "{'name': 'AL HARAMAIN RAWAA', 'price': '2,900/=', 'brand': '', 'category': 'FRAGRANCE', 'top_notes': 'Almond, Coffee', 'middle_notes': 'Jasmine, Orris, Tuberose', 'base_notes': 'Cacao pod, Sandalwood, Tonka beans, Vanilla', 'reviews': 'No Reviews Available', 'url': 'https://middleeasternscents.co.ke/product/al-haramain-rawaa/'}\n",
      "{'name': 'AL JAWHARA', 'price': '6,300/=', 'brand': '', 'category': 'FRAGRANCE', 'top_notes': 'Top notes: Pink Peppercorn, Davana.<br>\\nMiddle notes: Cinnamon, Osmanthus, Plum Accord.<br>\\nBase notes: Labdanum, Ambroxan, Patchouli, Musk.', 'middle_notes': 'Not Available', 'base_notes': 'Not Available', 'reviews': 'No Reviews Available', 'url': 'https://middleeasternscents.co.ke/product/al-jawhara/'}\n",
      "{'name': 'AL NASHAMA', 'price': '3,900/=', 'brand': '', 'category': 'FRAGRANCE', 'top_notes': 'Not Available', 'middle_notes': 'Not Available', 'base_notes': 'Not Available', 'reviews': 'No Reviews Available', 'url': 'https://middleeasternscents.co.ke/product/al-nashama/'}\n",
      "{'name': 'AL NASHAMA CAPRICE', 'price': '3,900/=', 'brand': '', 'category': 'FRAGRANCE', 'top_notes': 'Top notes: Bergamot, Lemon , Ginger , Cardamon', 'middle_notes': 'Not Available', 'base_notes': 'Amber, Patchouli, Vetiver , Cedarwood', 'reviews': 'No Reviews Available', 'url': 'https://middleeasternscents.co.ke/product/al-nashama-caprice/'}\n",
      "{'name': 'AL NOBLE SAFEER', 'price': '2,600/=', 'brand': '', 'category': 'FRAGRANCE', 'top_notes': 'Artemisia, Bergamot.', 'middle_notes': 'Herbs.', 'base_notes': 'Cedar Nuts, Labdanum, Cumin, Patchouli, Incense, Juniper, Guaiac Wood.', 'reviews': 'No Reviews Available', 'url': 'https://middleeasternscents.co.ke/product/al-noble-safeer/'}\n"
     ]
    },
    {
     "ename": "KeyboardInterrupt",
     "evalue": "",
     "output_type": "error",
     "traceback": [
      "\u001b[0;31m---------------------------------------------------------------------------\u001b[0m",
      "\u001b[0;31mKeyboardInterrupt\u001b[0m                         Traceback (most recent call last)",
      "Cell \u001b[0;32mIn[70], line 2\u001b[0m\n\u001b[1;32m      1\u001b[0m \u001b[38;5;28;01mfor\u001b[39;00m perfume \u001b[38;5;129;01min\u001b[39;00m perfume_links:\n\u001b[0;32m----> 2\u001b[0m     details \u001b[38;5;241m=\u001b[39m \u001b[43mget_perfume_details\u001b[49m\u001b[43m(\u001b[49m\u001b[43mperfume\u001b[49m\u001b[43m)\u001b[49m\n\u001b[1;32m      3\u001b[0m     perfume_data\u001b[38;5;241m.\u001b[39mappend(details)\n\u001b[1;32m      4\u001b[0m     \u001b[38;5;28mprint\u001b[39m(details)\n",
      "Cell \u001b[0;32mIn[69], line 7\u001b[0m, in \u001b[0;36mget_perfume_details\u001b[0;34m(url)\u001b[0m\n\u001b[1;32m      2\u001b[0m \u001b[38;5;250m\u001b[39m\u001b[38;5;124;03m\"\"\"\u001b[39;00m\n\u001b[1;32m      3\u001b[0m \u001b[38;5;124;03mExtracts perfume details including name, price, brand, category, notes, and reviews.\u001b[39;00m\n\u001b[1;32m      4\u001b[0m \u001b[38;5;124;03mReturns a dictionary with perfume details.\u001b[39;00m\n\u001b[1;32m      5\u001b[0m \u001b[38;5;124;03m\"\"\"\u001b[39;00m\n\u001b[1;32m      6\u001b[0m driver\u001b[38;5;241m.\u001b[39mget(perfume[\u001b[38;5;124m'\u001b[39m\u001b[38;5;124mURL\u001b[39m\u001b[38;5;124m'\u001b[39m])\n\u001b[0;32m----> 7\u001b[0m \u001b[43mtime\u001b[49m\u001b[38;5;241;43m.\u001b[39;49m\u001b[43msleep\u001b[49m\u001b[43m(\u001b[49m\u001b[38;5;241;43m2\u001b[39;49m\u001b[43m)\u001b[49m  \u001b[38;5;66;03m# Allow time for the page to load\u001b[39;00m\n\u001b[1;32m      9\u001b[0m name \u001b[38;5;241m=\u001b[39m perfume[\u001b[38;5;124m'\u001b[39m\u001b[38;5;124mName\u001b[39m\u001b[38;5;124m'\u001b[39m]\n\u001b[1;32m     10\u001b[0m price \u001b[38;5;241m=\u001b[39m extract_price()\n",
      "\u001b[0;31mKeyboardInterrupt\u001b[0m: "
     ]
    }
   ],
   "source": [
    "for perfume in perfume_links:\n",
    "    details = get_perfume_details(perfume)\n",
    "    perfume_data.append(details)\n",
    "    print(details)"
   ]
  },
  {
   "cell_type": "code",
   "execution_count": 67,
   "metadata": {},
   "outputs": [
    {
     "name": "stdout",
     "output_type": "stream",
     "text": [
      "Pistachio, Hazelnut, Cassis Buds.\n",
      "Middle notes: Lily Of the Valley, Jasmine, Raspberry & Lactonic.\n",
      "Base notes: Lactonic, Vanilla, Tonka Bean.\n"
     ]
    }
   ],
   "source": [
    "url = 'https://middleeasternscents.co.ke/product/affection/'\n",
    "\n",
    "driver.get(url)\n",
    "time.sleep(2)\n",
    "\n",
    "notes_element = driver.find_element(By.ID, \"tab-description\")\n",
    "notes_list = notes_element.find_elements(By.TAG_NAME, \"p\")\n",
    "\n",
    "for note in notes_list:\n",
    "    text = note.text.strip()\n",
    "    if \"Top notes:\" in text:\n",
    "        top_notes= text.replace(\"Top notes:\", \"\").strip()\n",
    "    elif \"Middle notes:\" in text:\n",
    "        middle_notes = text.replace(\"Middle notes:\", \"\").strip()\n",
    "    elif \"Base notes:\" in text:\n",
    "        base_notes = text.replace(\"Base notes:\", \"\").strip()\n",
    "\n",
    "print(top_notes)\n"
   ]
  },
  {
   "cell_type": "code",
   "execution_count": 10,
   "metadata": {},
   "outputs": [
    {
     "name": "stdout",
     "output_type": "stream",
     "text": [
      "Scraping complete! Data saved in perfumes.csv\n"
     ]
    }
   ],
   "source": [
    "import pandas as pd\n",
    "df = pd.DataFrame(perfume_data)\n",
    "df.to_csv(\"perfumes.csv\", index=False)\n",
    "\n",
    "print(\"Scraping complete! Data saved in perfumes.csv\")\n",
    "\n",
    "driver.quit()"
   ]
  }
 ],
 "metadata": {
  "kernelspec": {
   "display_name": "Python 3",
   "language": "python",
   "name": "python3"
  },
  "language_info": {
   "codemirror_mode": {
    "name": "ipython",
    "version": 3
   },
   "file_extension": ".py",
   "mimetype": "text/x-python",
   "name": "python",
   "nbconvert_exporter": "python",
   "pygments_lexer": "ipython3",
   "version": "3.12.0"
  }
 },
 "nbformat": 4,
 "nbformat_minor": 2
}
